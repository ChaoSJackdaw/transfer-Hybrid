{
 "cells": [
  {
   "cell_type": "code",
   "execution_count": 1,
   "id": "4e7e8ebd",
   "metadata": {},
   "outputs": [],
   "source": [
    "import cv2\n",
    "import matplotlib.pyplot as plt\n",
    "import numpy as np\n",
    "from skimage import util"
   ]
  },
  {
   "cell_type": "code",
   "execution_count": 5,
   "id": "4ecef066",
   "metadata": {
    "scrolled": true
   },
   "outputs": [
    {
     "name": "stdout",
     "output_type": "stream",
     "text": [
      "['C:\\\\Users\\\\Administrator.DESKTOP-EEN44LR\\\\Desktop\\\\MNIST\\\\0-0.png', 'C:\\\\Users\\\\Administrator.DESKTOP-EEN44LR\\\\Desktop\\\\MNIST\\\\1-1.png', 'C:\\\\Users\\\\Administrator.DESKTOP-EEN44LR\\\\Desktop\\\\MNIST\\\\2-2.png', 'C:\\\\Users\\\\Administrator.DESKTOP-EEN44LR\\\\Desktop\\\\MNIST\\\\3-3.png', 'C:\\\\Users\\\\Administrator.DESKTOP-EEN44LR\\\\Desktop\\\\MNIST\\\\4-4.png', 'C:\\\\Users\\\\Administrator.DESKTOP-EEN44LR\\\\Desktop\\\\MNIST\\\\5-5.png', 'C:\\\\Users\\\\Administrator.DESKTOP-EEN44LR\\\\Desktop\\\\MNIST\\\\6-6.png', 'C:\\\\Users\\\\Administrator.DESKTOP-EEN44LR\\\\Desktop\\\\MNIST\\\\7-7.png', 'C:\\\\Users\\\\Administrator.DESKTOP-EEN44LR\\\\Desktop\\\\MNIST\\\\8-8.png', 'C:\\\\Users\\\\Administrator.DESKTOP-EEN44LR\\\\Desktop\\\\MNIST\\\\9-9.png']\n"
     ]
    }
   ],
   "source": [
    "file = [ r'C:\\Users\\Administrator.DESKTOP-EEN44LR\\Desktop\\MNIST\\{}-{}.png'.format(i,i) for i in range(10)]\n",
    "\n",
    "print(file)\n",
    "def add_salt_noise(img, rate):\n",
    "    image_sp = util.random_noise(img, mode=\"s&p\", amount=rate)\n",
    "    return image_sp\n",
    "\n"
   ]
  },
  {
   "cell_type": "code",
   "execution_count": 8,
   "id": "dea5c2ae",
   "metadata": {},
   "outputs": [
    {
     "data": {
      "image/png": "[encoded data removed]",
      "text/plain": [
       "<Figure size 1000x400 with 10 Axes>"
      ]
     },
     "metadata": {},
     "output_type": "display_data"
    }
   ],
   "source": [
    "fig, axes = plt.subplots(nrows=2, ncols=5, figsize=(10, 4))\n",
    "plt.rcParams['font.sans-serif']=['SimHei'] #显示中文标签\n",
    "plt.rcParams['axes.unicode_minus']=False\n",
    "\n",
    "for i in range(2):\n",
    "    for j in range(5):\n",
    "        test_image = cv2.imread(file[i * 5 + j], cv2.IMREAD_GRAYSCALE)\n",
    "        test_image = np.float32(test_image)\n",
    "        cv2.normalize(test_image, dst=test_image, alpha=1.0, beta=0, norm_type=cv2.NORM_INF)\n",
    "        img_sized = cv2.resize(test_image, (28, 28), interpolation=cv2.INTER_LINEAR)\n",
    "        axes[i, j].get_yaxis().set_visible(False)\n",
    "        axes[i, j].get_xaxis().set_visible(False)\n",
    "        axes[i, j].imshow(img_sized, cmap='gray')\n"
   ]
  },
  {
   "cell_type": "code",
   "execution_count": null,
   "id": "d3f7944d",
   "metadata": {},
   "outputs": [],
   "source": []
  },
  {
   "cell_type": "code",
   "execution_count": null,
   "id": "68d651c9",
   "metadata": {},
   "outputs": [],
   "source": []
  }
 ],
 "metadata": {
  "kernelspec": {
   "display_name": "Python 3 (ipykernel)",
   "language": "python",
   "name": "python3"
  },
  "language_info": {
   "codemirror_mode": {
    "name": "ipython",
    "version": 3
   },
   "file_extension": ".py",
   "mimetype": "text/x-python",
   "name": "python",
   "nbconvert_exporter": "python",
   "pygments_lexer": "ipython3",
   "version": "3.9.13"
  },
  "latex_envs": {
   "LaTeX_envs_menu_present": true,
   "autoclose": false,
   "autocomplete": true,
   "bibliofile": "biblio.bib",
   "cite_by": "apalike",
   "current_citInitial": 1,
   "eqLabelWithNumbers": true,
   "eqNumInitial": 1,
   "hotkeys": {
    "equation": "Ctrl-E",
    "itemize": "Ctrl-I"
   },
   "labels_anchors": false,
   "latex_user_defs": false,
   "report_style_numbering": false,
   "user_envs_cfg": false
  },
  "toc": {
   "base_numbering": 1,
   "nav_menu": {},
   "number_sections": true,
   "sideBar": true,
   "skip_h1_title": false,
   "title_cell": "Table of Contents",
   "title_sidebar": "Contents",
   "toc_cell": false,
   "toc_position": {},
   "toc_section_display": true,
   "toc_window_display": false
  },
  "varInspector": {
   "cols": {
    "lenName": 16,
    "lenType": 16,
    "lenVar": 40
   },
   "kernels_config": {
    "python": {
     "delete_cmd_postfix": "",
     "delete_cmd_prefix": "del ",
     "library": "var_list.py",
     "varRefreshCmd": "print(var_dic_list())"
    },
    "r": {
     "delete_cmd_postfix": ") ",
     "delete_cmd_prefix": "rm(",
     "library": "var_list.r",
     "varRefreshCmd": "cat(var_dic_list()) "
    }
   },
   "types_to_exclude": [
    "module",
    "function",
    "builtin_function_or_method",
    "instance",
    "_Feature"
   ],
   "window_display": false
  }
 },
 "nbformat": 4,
 "nbformat_minor": 5
}
